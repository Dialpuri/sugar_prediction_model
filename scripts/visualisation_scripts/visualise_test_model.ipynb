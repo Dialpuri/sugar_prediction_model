{
 "cells": [
  {
   "cell_type": "code",
   "execution_count": null,
   "metadata": {},
   "outputs": [],
   "source": [
    "!pip install matplotlib pandas\n",
    "import pandas as pd\n",
    "import matplotlib.pyplot as plt"
   ]
  },
  {
   "cell_type": "code",
   "execution_count": null,
   "metadata": {},
   "outputs": [],
   "source": [
    "#import matplotib as plt\n",
    "import os"
   ]
  },
  {
   "cell_type": "code",
   "execution_count": null,
   "metadata": {},
   "outputs": [],
   "source": [
    "def get_resolution(pdb_code: str) -> float:\n",
    "    pdb_path = f\"/vault/pdb/pdb{pdb_code}.ent\"\n",
    "\n",
    "    if not os.path.isfile(pdb_path): \n",
    "        return\n",
    "    \n",
    "    with open(pdb_path, 'r') as f: \n",
    "        for line in f.readlines():\n",
    "            if 'RESOLUTION.' in line: \n",
    "                line = [x for x in line.strip(\"\\n\").split(\" \") if x ]\n",
    "                resolution = line[-2]\n",
    "                try: \n",
    "                    x = float(resolution)\n",
    "                except:\n",
    "                    return None\n",
    "                return x"
   ]
  },
  {
   "cell_type": "code",
   "execution_count": null,
   "metadata": {},
   "outputs": [],
   "source": [
    "def combine_results(results_dir: str) -> pd.DataFrame:\n",
    "    combined_df = pd.DataFrame()\n",
    "\n",
    "    for file in os.scandir(results_dir):\n",
    "        df = pd.read_csv(file)\n",
    "\n",
    "        pdb_code = df[\"PDB\"].values[0]\n",
    "        res = get_resolution(pdb_code=pdb_code)\n",
    "\n",
    "        df[\"Res\"] = [res]\n",
    "        if 'X' not in df.columns:\n",
    "            continue\n",
    "\n",
    "        combined_df = pd.concat([combined_df, df], ignore_index=True)\n",
    "\n",
    "    return combined_df\n",
    "\n",
    "combined_df = combine_results(\"../../results/base_1.5A_model_1.best.hdf5\")\n",
    "combined_df"
   ]
  },
  {
   "cell_type": "code",
   "execution_count": null,
   "metadata": {},
   "outputs": [],
   "source": [
    "def get_resolutions(file_path: str): \n",
    "    resolutions = []\n",
    "    for file in os.scandir(file_path):\n",
    "        pdb_code = file.name.split(\".\")[0]\n",
    "        res = get_resolution(pdb_code)\n",
    "        if res is not None:\n",
    "            resolutions.append((res, pdb_code))\n",
    "    \n",
    "    return resolutions\n",
    "\n"
   ]
  },
  {
   "cell_type": "code",
   "execution_count": null,
   "metadata": {},
   "outputs": [],
   "source": [
    "def plot_resolutions(): \n",
    "    resolutions = get_resolutions(\"/home/jordan/dev/sugar_position_pred/data/test_structures/map\")\n",
    "    resolutions = [res for res, pdb in resolutions]\n",
    "    plt.hist(resolutions, bins=9)\n",
    "    plt.show()\n",
    "\n",
    "plot_resolutions()"
   ]
  },
  {
   "cell_type": "code",
   "execution_count": 46,
   "metadata": {},
   "outputs": [
    {
     "data": {
      "text/plain": [
       "[(3.34, '4e8t'), (3.85, '4p8z'), (1.42, '4h5a'), (3.0, '6bmd'), (1.97, '4z4b')]"
      ]
     },
     "execution_count": 46,
     "metadata": {},
     "output_type": "execute_result"
    }
   ],
   "source": [
    "#Get random resolutions\n",
    "resolutions = get_resolutions(\"/home/jordan/dev/sugar_position_pred/data/test_structures/map\")\n",
    "\n",
    "import random\n",
    "\n",
    "random.sample(resolutions, 5)"
   ]
  }
 ],
 "metadata": {
  "kernelspec": {
   "display_name": "tf_",
   "language": "python",
   "name": "python3"
  },
  "language_info": {
   "codemirror_mode": {
    "name": "ipython",
    "version": 3
   },
   "file_extension": ".py",
   "mimetype": "text/x-python",
   "name": "python",
   "nbconvert_exporter": "python",
   "pygments_lexer": "ipython3",
   "version": "3.9.16"
  },
  "orig_nbformat": 4
 },
 "nbformat": 4,
 "nbformat_minor": 2
}
