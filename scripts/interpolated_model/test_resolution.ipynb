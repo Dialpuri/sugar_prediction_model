{
 "cells": [
  {
   "cell_type": "code",
   "execution_count": null,
   "metadata": {},
   "outputs": [],
   "source": [
    "import gemmi \n",
    "import matplotlib.pyplot as plt\n",
    "import test_model as model\n",
    "import numpy as np \n",
    "import os\n",
    "import logging\n",
    "import pandas as pd"
   ]
  },
  {
   "cell_type": "code",
   "execution_count": null,
   "metadata": {},
   "outputs": [],
   "source": [
    "def mtz_to_map(mtz: gemmi.Mtz, resolution_cutoff: float = 3.0) -> gemmi.FloatGrid:\n",
    "    data = np.array(mtz, copy=False)\n",
    "    mtz.set_data(data[mtz.make_d_array() >= resolution_cutoff])\n",
    "    return mtz.transform_f_phi_to_map(\"FWT\", \"PHWT\")"
   ]
  },
  {
   "cell_type": "code",
   "execution_count": null,
   "metadata": {},
   "outputs": [],
   "source": [
    "# Generate new maps with varying resolutions\n",
    "mtz_file = \"/home/jordan/dev/sugar_prediction_model/data/mtz/1d8g_phases.mtz\"\n",
    "output_dir = \"/home/jordan/dev/sugar_prediction_model/data/tmp\"\n",
    "resolution_list = [\n",
    "    1.0, 1.5, 2.0, 2.5, 3.0, 3.5, 4.0\n",
    "]\n",
    "\n",
    "mtz_obj = gemmi.read_mtz_file(mtz_file)\n",
    "\n",
    "for resolution in resolution_list:\n",
    "    map_obj = mtz_to_map(mtz=mtz_obj, resolution_cutoff=resolution)\n",
    "    ccp4 = gemmi.Ccp4Map()\n",
    "    ccp4.grid = map_obj\n",
    "    ccp4.update_ccp4_header()\n",
    "\n",
    "    output_path = os.path.join(output_dir, f\"{resolution}.map\")\n",
    "    ccp4.write_ccp4_map(output_path)"
   ]
  },
  {
   "cell_type": "code",
   "execution_count": null,
   "metadata": {},
   "outputs": [],
   "source": [
    "# Calculate score for each map \n",
    "\n",
    "map_file_dir = \"/home/jordan/dev/sugar_prediction_model/data/tmp\"\n",
    "\n",
    "model_path = \"/home/jordan/dev/sugar_prediction_model/models/base_1.5A_model_1.best.hdf5\"\n",
    "pdb_code = \"1d8g\" \n",
    "\n",
    "logging.basicConfig(\n",
    "        level=logging.DEBUG, format=\"%(asctime)s %(levelname)s - %(message)s\"\n",
    ")\n",
    "\n",
    "os.environ[\"CUDA_VISIBLE_DEVICES\"] = \"-1\"\n",
    "\n",
    "for map_file in os.scandir(map_file_dir):\n",
    "    resolution = '.'.join(map_file.name.split(\".\")[:-1])\n",
    "    test = model.TestModel(model_dir=model_path, use_cache=False)\n",
    "    test.make_prediction(map_path=map_file.path, pdb_code=pdb_code)\n",
    "    test.save_score(\"/home/jordan/dev/sugar_prediction_model/results/1d8g_res_test\", suffix=resolution)"
   ]
  },
  {
   "cell_type": "code",
   "execution_count": null,
   "metadata": {},
   "outputs": [],
   "source": [
    "res_test_dir = \"/home/jordan/dev/sugar_prediction_model/results/1d8g_res_test/base_1.5A_model_1.best.hdf5\"\n",
    "\n",
    "resolutions = []\n",
    "positives = []\n",
    "\n",
    "\n",
    "for file in os.scandir(res_test_dir):\n",
    "    df = pd.read_csv(file.path)\n",
    "    \n",
    "    res = float('.'.join(file.name.split(\"_\")[-1].split(\".\")[:-1]))\n",
    "    positive = df[\"Positive\"].values[0]\n",
    "    false_negative = df[\"FalseNegative\"].values[0]\n",
    "\n",
    "    resolutions.append(res)\n",
    "    positives.append(100* (positive)/(positive+false_negative))\n",
    "\n",
    "plt.bar(resolutions, positives, width=0.3, color='orange')\n",
    "plt.xlabel(\"Resolution / A\")\n",
    "plt.ylabel(\"Correct points located / %\")"
   ]
  }
 ],
 "metadata": {
  "kernelspec": {
   "display_name": "tf_",
   "language": "python",
   "name": "python3"
  },
  "language_info": {
   "codemirror_mode": {
    "name": "ipython",
    "version": 3
   },
   "file_extension": ".py",
   "mimetype": "text/x-python",
   "name": "python",
   "nbconvert_exporter": "python",
   "pygments_lexer": "ipython3",
   "version": "3.9.16"
  },
  "orig_nbformat": 4
 },
 "nbformat": 4,
 "nbformat_minor": 2
}
